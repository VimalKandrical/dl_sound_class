{
  "nbformat": 4,
  "nbformat_minor": 0,
  "metadata": {
    "colab": {
      "name": "main.ipynb",
      "provenance": [],
      "collapsed_sections": [],
      "authorship_tag": "ABX9TyNYjShGKiHoDLKXtWO24MH6",
      "include_colab_link": true
    },
    "kernelspec": {
      "name": "python3",
      "display_name": "Python 3"
    }
  },
  "cells": [
    {
      "cell_type": "markdown",
      "metadata": {
        "id": "view-in-github",
        "colab_type": "text"
      },
      "source": [
        "<a href=\"https://colab.research.google.com/github/VimalKandrical/dl_sound_class/blob/Vimal/main.ipynb\" target=\"_parent\"><img src=\"https://colab.research.google.com/assets/colab-badge.svg\" alt=\"Open In Colab\"/></a>"
      ]
    },
    {
      "cell_type": "markdown",
      "metadata": {
        "id": "s3f-PvBmNOBh",
        "colab_type": "text"
      },
      "source": [
        "#Deep Learning Project - Classification of Environmental Sound \n",
        "**Autoren:** Vimal Kandrical, Christian von Rotz\n",
        "\n",
        "**Daten:** [Urbansound8k](https://www.kaggle.com/chrisfilo/urbansound8k) \n",
        "\n"
      ]
    },
    {
      "cell_type": "code",
      "metadata": {
        "id": "CcUKzPPWNFU9",
        "colab_type": "code",
        "colab": {
          "base_uri": "https://localhost:8080/",
          "height": 36
        },
        "outputId": "da501e64-3379-4403-9184-e282c81809ed"
      },
      "source": [
        "print(\"test\")"
      ],
      "execution_count": 1,
      "outputs": [
        {
          "output_type": "stream",
          "text": [
            "test\n"
          ],
          "name": "stdout"
        }
      ]
    }
  ]
}