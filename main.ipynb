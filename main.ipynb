{
  "nbformat": 4,
  "nbformat_minor": 0,
  "metadata": {
    "colab": {
      "name": "main.ipynb",
      "provenance": [],
      "collapsed_sections": []
    },
    "kernelspec": {
      "name": "python3",
      "display_name": "Python 3"
    }
  },
  "cells": [
    {
      "cell_type": "markdown",
      "metadata": {
        "id": "s3f-PvBmNOBh",
        "colab_type": "text"
      },
      "source": [
        "#Deep Learning Project - Classification of Environmental Sound \n",
        "**Autoren:** Christian von Rotz, Vimal Kandrical\n",
        "\n",
        "**Daten:** [Urbansound8k](https://www.kaggle.com/chrisfilo/urbansound8k) \n",
        "\n"
      ]
    },
    {
      "cell_type": "code",
      "metadata": {
        "id": "CcUKzPPWNFU9",
        "colab_type": "code",
        "colab": {
          "base_uri": "https://localhost:8080/",
          "height": 36
        },
        "outputId": "da501e64-3379-4403-9184-e282c81809ed"
      },
      "source": [
        "print(\"test\")"
      ],
      "execution_count": 1,
      "outputs": [
        {
          "output_type": "stream",
          "text": [
            "test\n"
          ],
          "name": "stdout"
        }
      ]
    }
  ]
}