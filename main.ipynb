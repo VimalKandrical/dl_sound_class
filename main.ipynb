{
  "nbformat": 4,
  "nbformat_minor": 0,
  "metadata": {
    "colab": {
      "name": "main.ipynb",
      "provenance": [],
      "collapsed_sections": [
        "9ogoQuuTl5Ez",
        "e5nQ0g-4mHPg",
        "0tBd2sw71Fhh"
      ],
      "toc_visible": true,
      "authorship_tag": "ABX9TyPpbMY9P5uggZjpxF5Y3vtj",
      "include_colab_link": true
    },
    "kernelspec": {
      "name": "python3",
      "display_name": "Python 3"
    }
  },
  "cells": [
    {
      "cell_type": "markdown",
      "metadata": {
        "id": "view-in-github",
        "colab_type": "text"
      },
      "source": [
        "<a href=\"https://colab.research.google.com/github/VimalKandrical/dl_sound_class/blob/master/main.ipynb\" target=\"_parent\"><img src=\"https://colab.research.google.com/assets/colab-badge.svg\" alt=\"Open In Colab\"/></a>"
      ]
    },
    {
      "cell_type": "markdown",
      "metadata": {
        "id": "HY4tXjk1lkqF",
        "colab_type": "text"
      },
      "source": [
        "#Classification of Environmental Sound\n",
        "**Autoren:**<br> Vimal Kandrical, Christian von Rotz\n",
        "\n",
        "**Daten:**<br>[Urbansound8k](https://www.kaggle.com/chrisfilo/urbansound8k) "
      ]
    },
    {
      "cell_type": "markdown",
      "metadata": {
        "id": "9ogoQuuTl5Ez",
        "colab_type": "text"
      },
      "source": [
        "# Einleitung"
      ]
    },
    {
      "cell_type": "markdown",
      "metadata": {
        "id": "IGZfcWZvl9SC",
        "colab_type": "text"
      },
      "source": [
        "Im Rahmen des Moduls Deep Learning im CAS Machine Intelligence werden in diesem Projekt Tonaufnahmen von Umgebungsgeräuschen analysiert und mittels Deep Learning klassifiziert.  \n",
        "\n",
        "##Beschreibung der Daten (kaggle.com)\n",
        "\n",
        "This dataset contains 8732 labeled sound excerpts (<=4s) of urban sounds from 10 classes: air_conditioner, car_horn, children_playing, dog_bark, drilling, enginge_idling, gun_shot, jackhammer, siren, and street_music. The classes are drawn from the urban sound taxonomy. For a detailed description of the dataset and how it was compiled please refer to our paper.\n",
        "All excerpts are taken from field recordings uploaded to www.freesound.org. The files are pre-sorted into ten folds (folders named fold1-fold10) to help in the reproduction of and comparison with the automatic classification results reported in the article above.\n",
        "\n",
        "In addition to the sound excerpts, a CSV file containing metadata about each excerpt is also provided.\n",
        "\n",
        "**Audiofiles:**\n",
        "\n",
        "8732 audio files of urban sounds (see description above) in WAV format. The sampling rate, bit depth, and number of channels are the same as those of the original file uploaded to Freesound (and hence may vary from file to file).\n",
        "\n",
        "**Metadaten:**\n",
        "*   slicefilename:<br>\n",
        "    The name of the audio file. The name takes the following format: [fsID]-4s[classID]-[occurrenceID]-[sliceID].wav, where:\n",
        "    [fsID] = the Freesound ID of the recording from which this excerpt (slice) is taken\n",
        "    [classID] = a numeric identifier of the sound class (see description of classID below for further details)\n",
        "    [occurrenceID] = a numeric identifier to distinguish different occurrences of the sound within the original recording\n",
        "    [sliceID] = a numeric identifier to distinguish different slices taken from the same occurrence\n",
        "*   fsID:<br>\n",
        "The Freesound ID of the recording from which this excerpt (slice) is taken\n",
        "*   start:<br>\n",
        "The start time of the slice in the original Freesound recording\n",
        "*   end:<br>\n",
        "The end time of slice in the original Freesound recording\n",
        "*   salience:<br>\n",
        "A (subjective) salience rating of the sound. 1 = foreground, 2 = background.\n",
        "*   fold:<br>\n",
        "The fold number (1-10) to which this file has been allocated.\n",
        "*   classID:<br>\n",
        "A numeric identifier of the sound class:\n",
        "    0 = airconditioner 1 = carhorn\n",
        "    2 = childrenplaying 3 = dogbark\n",
        "    4 = drilling\n",
        "    5 = engineidling 6 = gunshot\n",
        "    7 = jackhammer\n",
        "    8 = siren\n",
        "    9 = street_music\n",
        "*   class:<br>\n",
        " The class name: airconditioner, carhorn, childrenplaying, dogbark, drilling, engineidling, gunshot, jackhammer,\n",
        "    siren, street_music.\n",
        "\n",
        "**Bemerkungen:**<br>\n",
        "Auf kaggle wird explizit darauf hingewiesen, dass man die Daten nicht noch einmal mischen soll, sondern die vordefinierten 10 folds benützen soll. Nur so kann das erzielte Resultat mit anderen Resultaten verglichen. Zudem soll 10-fold cross validation angewendet werden, da die einzelnen folds nicht gleich schwer sind. Das Endresultat ist die durchschnittliche accuracy. "
      ]
    },
    {
      "cell_type": "markdown",
      "metadata": {
        "id": "e5nQ0g-4mHPg",
        "colab_type": "text"
      },
      "source": [
        "# Daten laden"
      ]
    },
    {
      "cell_type": "markdown",
      "metadata": {
        "id": "qbETyhGI1eX0",
        "colab_type": "text"
      },
      "source": [
        "*Dieser Teil muss nur einmal ausgeführt werden, damit die Daten in Colab sind.*"
      ]
    },
    {
      "cell_type": "markdown",
      "metadata": {
        "id": "fdhd8uSBmL5-",
        "colab_type": "text"
      },
      "source": [
        "Google Colab benötigt Zugriff auf Kaggle via API. Der API Token liegt auf dem Google Drive ab."
      ]
    },
    {
      "cell_type": "code",
      "metadata": {
        "id": "-A21x4U2mSL7",
        "colab_type": "code",
        "colab": {
          "base_uri": "https://localhost:8080/",
          "height": 92
        },
        "outputId": "d5aeeaf4-9265-418e-d46d-6bec9119b438"
      },
      "source": [
        "from google.colab import drive\n",
        "import os\n",
        "os.chdir(\"/content/drive/My Drive/Colab Notebooks\")\n",
        "os.listdir()"
      ],
      "execution_count": 12,
      "outputs": [
        {
          "output_type": "execute_result",
          "data": {
            "text/plain": [
              "['Copy of 07_cifar10_norm.ipynb',\n",
              " 'kaggle.json',\n",
              " 'main.ipynb',\n",
              " '.ipynb_checkpoints']"
            ]
          },
          "metadata": {
            "tags": []
          },
          "execution_count": 12
        }
      ]
    },
    {
      "cell_type": "markdown",
      "metadata": {
        "id": "1d5ITnFUtT-i",
        "colab_type": "text"
      },
      "source": [
        "Zugriffsrechte anpassen und File downloaden"
      ]
    },
    {
      "cell_type": "code",
      "metadata": {
        "id": "uEKRaPuwrcuI",
        "colab_type": "code",
        "colab": {}
      },
      "source": [
        "!chmod 600 \"/content/drive/My Drive/Colab Notebooks/kaggle.json\"\n",
        "!kaggle datasets download -d chrisfilo/urbansound8k"
      ],
      "execution_count": 0,
      "outputs": []
    },
    {
      "cell_type": "markdown",
      "metadata": {
        "id": "OcVqP2Z3vGn2",
        "colab_type": "text"
      },
      "source": [
        "Zipfile wird mittels drag&drop in Ordner sample_data verschoben und dann mit dem folgenden Befehl entpackt"
      ]
    },
    {
      "cell_type": "code",
      "metadata": {
        "id": "PLeY6lcZvTht",
        "colab_type": "code",
        "colab": {}
      },
      "source": [
        "os.chdir(\"/content/sample_data\")\n",
        "!unzip urbansound8k.zip"
      ],
      "execution_count": 0,
      "outputs": []
    }
  ]
}