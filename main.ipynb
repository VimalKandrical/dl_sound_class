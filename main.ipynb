{
  "nbformat": 4,
  "nbformat_minor": 0,
  "metadata": {
    "colab": {
      "name": "main.ipynb",
      "provenance": [],
      "collapsed_sections": [],
      "authorship_tag": "ABX9TyO4kMiXuUQvIS+IiLhNnqsl",
      "include_colab_link": true
    },
    "kernelspec": {
      "name": "python3",
      "display_name": "Python 3"
    }
  },
  "cells": [
    {
      "cell_type": "markdown",
      "metadata": {
        "id": "view-in-github",
        "colab_type": "text"
      },
      "source": [
        "<a href=\"https://colab.research.google.com/github/VimalKandrical/dl_sound_class/blob/master/main.ipynb\" target=\"_parent\"><img src=\"https://colab.research.google.com/assets/colab-badge.svg\" alt=\"Open In Colab\"/></a>"
      ]
    },
    {
      "cell_type": "markdown",
      "metadata": {
        "id": "s3f-PvBmNOBh",
        "colab_type": "text"
      },
      "source": [
        "#Deep Learning Project - Classification of Environmental Sound \n",
        "**Autoren:**<br> Vimal Kandrical, Christian von Rotz\n",
        "\n",
        "**Daten:**<br>[Urbansound8k](https://www.kaggle.com/chrisfilo/urbansound8k) \n",
        "\n",
        "## Einleitung\n",
        "\n",
        "Im Rahmen des Moduls Deep Learning im CAS Machine Intelligence werden in diesem Projekt Tonaufnahmen von Umgebungsgeräuschen analysiert und mittels Deep Learning klassifiziert.  \n",
        "\n",
        "##Beschreibung der Daten (kaggle.com)\n",
        "\n",
        "This dataset contains 8732 labeled sound excerpts (<=4s) of urban sounds from 10 classes: air_conditioner, car_horn, children_playing, dog_bark, drilling, enginge_idling, gun_shot, jackhammer, siren, and street_music. The classes are drawn from the urban sound taxonomy. For a detailed description of the dataset and how it was compiled please refer to our paper.\n",
        "All excerpts are taken from field recordings uploaded to www.freesound.org. The files are pre-sorted into ten folds (folders named fold1-fold10) to help in the reproduction of and comparison with the automatic classification results reported in the article above.\n",
        "\n",
        "In addition to the sound excerpts, a CSV file containing metadata about each excerpt is also provided.\n",
        "\n",
        "**Audiofiles:**\n",
        "\n",
        "8732 audio files of urban sounds (see description above) in WAV format. The sampling rate, bit depth, and number of channels are the same as those of the original file uploaded to Freesound (and hence may vary from file to file).\n",
        "\n",
        "**Metadaten:**\n",
        "*   slicefilename:<br>\n",
        "    The name of the audio file. The name takes the following format: [fsID]-4s[classID]-[occurrenceID]-[sliceID].wav, where:\n",
        "    [fsID] = the Freesound ID of the recording from which this excerpt (slice) is taken\n",
        "    [classID] = a numeric identifier of the sound class (see description of classID below for further details)\n",
        "    [occurrenceID] = a numeric identifier to distinguish different occurrences of the sound within the original recording\n",
        "    [sliceID] = a numeric identifier to distinguish different slices taken from the same occurrence\n",
        "*   fsID:<br>\n",
        "The Freesound ID of the recording from which this excerpt (slice) is taken\n",
        "*   start:<br>\n",
        "The start time of the slice in the original Freesound recording\n",
        "*   end:<br>\n",
        "The end time of slice in the original Freesound recording\n",
        "*   salience:<br>\n",
        "A (subjective) salience rating of the sound. 1 = foreground, 2 = background.\n",
        "*   fold:<br>\n",
        "The fold number (1-10) to which this file has been allocated.\n",
        "*   classID:<br>\n",
        "A numeric identifier of the sound class:\n",
        "    0 = airconditioner 1 = carhorn\n",
        "    2 = childrenplaying 3 = dogbark\n",
        "    4 = drilling\n",
        "    5 = engineidling 6 = gunshot\n",
        "    7 = jackhammer\n",
        "    8 = siren\n",
        "    9 = street_music\n",
        "*   class:<br>\n",
        " The class name: airconditioner, carhorn, childrenplaying, dogbark, drilling, engineidling, gunshot, jackhammer,\n",
        "    siren, street_music.\n",
        "\n",
        "**Bemerkungen:**<br>\n",
        "Auf kaggle wird explizit darauf hingewiesen, dass man die Daten nicht noch einmal mischen soll, sondern die vordefinierten 10 folds benützen soll. Nur so kann das erzielte Resultat mit anderen Resultaten verglichen. Zudem soll 10-fold cross validation angewendet werden, da die einzelnen folds nicht gleich schwer sind. Das Endresultat ist die durchschnittliche accuracy. "
      ]
    },
    {
      "cell_type": "code",
      "metadata": {
        "id": "CcUKzPPWNFU9",
        "colab_type": "code",
        "colab": {
          "base_uri": "https://localhost:8080/",
          "height": 36
        },
        "outputId": "da501e64-3379-4403-9184-e282c81809ed"
      },
      "source": [
        "print(\"test\")"
      ],
      "execution_count": 1,
      "outputs": [
        {
          "output_type": "stream",
          "text": [
            "test\n"
          ],
          "name": "stdout"
        }
      ]
    }
  ]
}